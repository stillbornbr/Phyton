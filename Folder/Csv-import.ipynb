{
 "cells": [
  {
   "cell_type": "code",
   "execution_count": 1,
   "id": "9ef1d534-44ae-4163-a23f-bf6d8cade355",
   "metadata": {},
   "outputs": [],
   "source": [
    "#Library\n",
    "import pyodbc\n",
    "import pandas as pd\n",
    "import matplotlib.pyplot as plt"
   ]
  },
  {
   "cell_type": "code",
   "execution_count": 2,
   "id": "017abb21-e436-4333-adc6-d13f0914d7b3",
   "metadata": {},
   "outputs": [],
   "source": [
    "#Read file\n",
    "df = pd.read_csv(r\"C:\\Users\\Redr8\\OneDrive\\Área de Trabalho\\Csv\\olist_customers_dataset.csv\")"
   ]
  },
  {
   "cell_type": "code",
   "execution_count": 3,
   "id": "313fd7bd-6c44-4e0e-8815-daedf4b53a0c",
   "metadata": {},
   "outputs": [
    {
     "name": "stdout",
     "output_type": "stream",
     "text": [
      "<class 'pandas.core.frame.DataFrame'>\n",
      "RangeIndex: 99441 entries, 0 to 99440\n",
      "Data columns (total 5 columns):\n",
      " #   Column                    Non-Null Count  Dtype \n",
      "---  ------                    --------------  ----- \n",
      " 0   customer_id               99441 non-null  object\n",
      " 1   customer_unique_id        99441 non-null  object\n",
      " 2   customer_zip_code_prefix  99441 non-null  int64 \n",
      " 3   customer_city             99441 non-null  object\n",
      " 4   customer_state            99441 non-null  object\n",
      "dtypes: int64(1), object(4)\n",
      "memory usage: 3.8+ MB\n"
     ]
    },
    {
     "data": {
      "text/plain": [
       "(99441, 5)"
      ]
     },
     "execution_count": 3,
     "metadata": {},
     "output_type": "execute_result"
    }
   ],
   "source": [
    "#Info\n",
    "df.info()\n",
    "df.shape"
   ]
  },
  {
   "cell_type": "code",
   "execution_count": 4,
   "id": "d54f7a4e-6327-4ec2-84ba-8c632739263d",
   "metadata": {},
   "outputs": [],
   "source": [
    "#MyConnection\n",
    "conn = pyodbc.connect('DRIVER={SQL Server};SERVER=DESKTOP-ADU8TNS;DATABASE=Csv;UID=123;PWD=123')\n",
    "\n",
    "cursor = conn.cursor()"
   ]
  },
  {
   "cell_type": "code",
   "execution_count": 5,
   "id": "e32ea6c2-e259-4a87-90d3-524908c56f3d",
   "metadata": {},
   "outputs": [
    {
     "name": "stdout",
     "output_type": "stream",
     "text": [
      "Table created!\n"
     ]
    }
   ],
   "source": [
    "#Look Sql to find table\n",
    "try:\n",
    "    result = pd.read_sql(\"SELECT * FROM Csv_New\", conn) \n",
    "    result.head()\n",
    "    print(\"Table exists!\")\n",
    "except:\n",
    "    cursor.execute(\"CREATE TABLE Csv_New (customer_id varchar(255), customer_unique_id varchar(255) ,customer_zip_code_prefix int,customer_city varchar(255),customer_state varchar(255))\")\n",
    "    conn.commit()\n",
    "    conn.close()\n",
    "    print(\"Table created!\")\n"
   ]
  },
  {
   "cell_type": "code",
   "execution_count": 6,
   "id": "463c5bf7-26e7-4761-8375-3ad75a76a7d0",
   "metadata": {},
   "outputs": [],
   "source": [
    "#Reconnect\n",
    "conn = pyodbc.connect('DRIVER={SQL Server};SERVER=DESKTOP-ADU8TNS;DATABASE=Csv;UID=123;PWD=123')\n",
    "cursor = conn.cursor()\n",
    "#Insert into sql\n",
    "for row in df.itertuples():\n",
    "    cursor.execute(\"\"\"INSERT INTO Csv_New(customer_id,customer_unique_id,customer_zip_code_prefix,customer_city,customer_state) VALUES (?,?,?,?,?)\"\"\", row.customer_id,row.customer_unique_id,row.customer_zip_code_prefix,row.customer_city,row.customer_state)\n",
    "#Reconnect\n",
    "    conn.commit()\n",
    "conn.close()"
   ]
  },
  {
   "cell_type": "code",
   "execution_count": 7,
   "id": "8b9f3e31-254d-43dc-b032-85f98ecc8772",
   "metadata": {},
   "outputs": [],
   "source": [
    "#Reconnect\n",
    "conn = pyodbc.connect('DRIVER={SQL Server};SERVER=DESKTOP-ADU8TNS;DATABASE=Csv;UID=123;PWD=123')\n",
    "cursor = conn.cursor()\n",
    "#Drop Duplicate Rows\n",
    "#Create a temporary table to found duplicates data\n",
    "cursor.execute(\"\"\"WITH CTE AS(\n",
    "   SELECT customer_id,customer_unique_id,customer_zip_code_prefix,customer_city,customer_state,\n",
    "       RN = ROW_NUMBER()OVER(PARTITION BY customer_id ORDER BY customer_id)\n",
    "   FROM Csv_New\n",
    ")\n",
    "DELETE FROM CTE WHERE RN > 1\"\"\")\n",
    "\n",
    "#Close connection\n",
    "conn.commit()\n",
    "conn.close()"
   ]
  },
  {
   "cell_type": "code",
   "execution_count": 8,
   "id": "d6833889-b7fc-44f5-9139-a49b01f0381b",
   "metadata": {},
   "outputs": [],
   "source": [
    "#Reconnect\n",
    "conn = pyodbc.connect('DRIVER={SQL Server};SERVER=DESKTOP-ADU8TNS;DATABASE=Csv;UID=123;PWD=123')\n",
    "cursor = conn.cursor()\n",
    "\n",
    "#New query\n",
    "result = pd.read_sql(\"SELECT * FROM Csv_View\", conn)\n",
    "conn.commit()\n",
    "conn.close()\n"
   ]
  },
  {
   "cell_type": "code",
   "execution_count": 12,
   "id": "a6a89134-0c2f-4de9-a48f-c25909d2afe5",
   "metadata": {},
   "outputs": [
    {
     "name": "stdout",
     "output_type": "stream",
     "text": [
      "              customer_city customer_state  customer_city_qtd\n",
      "4270              sao paulo             SP              15540\n",
      "2650         rio de janeiro             RJ               6882\n",
      "1661         belo horizonte             MG               2773\n",
      "335                brasilia             DF               2131\n",
      "1578               curitiba             PR               1521\n",
      "3594               campinas             SP               1444\n",
      "3779           porto alegre             RS               1379\n",
      "697                salvador             BA               1245\n",
      "3616              guarulhos             SP               1189\n",
      "4208  sao bernardo do campo             SP                938\n",
      "2300                niteroi             RJ                849\n",
      "3436            santo andre             SP                796\n",
      "4170                 osasco             SP                746\n",
      "3709                 santos             SP                713\n",
      "600                 goiania             GO                692\n",
      "3441    sao jose dos campos             SP                691\n",
      "528               fortaleza             CE                654\n",
      "4274               sorocaba             SP                633\n",
      "2154                 recife             PE                613\n",
      "3241          florianopolis             SC                570\n"
     ]
    }
   ],
   "source": [
    "#View new table\n",
    "result = result.sort_values(by='customer_city_qtd', ascending=False)\n",
    "print(result.head(20))"
   ]
  },
  {
   "cell_type": "code",
   "execution_count": 13,
   "id": "f7732f06-e694-4972-abe1-2b57b1e048bc",
   "metadata": {},
   "outputs": [
    {
     "data": {
      "image/png": "[encoded data removed]",
      "text/plain": [
       "<Figure size 432x288 with 1 Axes>"
      ]
     },
     "metadata": {
      "needs_background": "light"
     },
     "output_type": "display_data"
    }
   ],
   "source": [
    "#Plot\n",
    "result.head(20).plot(x = 'customer_city')\n",
    "plt.show()"
   ]
  },
  {
   "cell_type": "code",
   "execution_count": 19,
   "id": "6dc28cd2-33c0-4ed6-8848-9a5f551b1c11",
   "metadata": {},
   "outputs": [],
   "source": [
    "#Download to excel\n",
    "result.to_excel(\"Csv_View.xlsx\", sheet_name='City',index=False)"
   ]
  }
 ],
 "metadata": {
  "kernelspec": {
   "display_name": "Python 3",
   "language": "python",
   "name": "python3"
  },
  "language_info": {
   "codemirror_mode": {
    "name": "ipython",
    "version": 3
   },
   "file_extension": ".py",
   "mimetype": "text/x-python",
   "name": "python",
   "nbconvert_exporter": "python",
   "pygments_lexer": "ipython3",
   "version": "3.8.8"
  }
 },
 "nbformat": 4,
 "nbformat_minor": 5
}
