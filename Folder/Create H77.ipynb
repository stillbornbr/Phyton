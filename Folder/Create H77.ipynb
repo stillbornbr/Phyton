{
 "cells": [
  {
   "cell_type": "code",
   "execution_count": 2,
   "id": "9872b05f-c3c7-4b51-9a6c-c02ac8b51605",
   "metadata": {},
   "outputs": [
    {
     "ename": "ProgrammingError",
     "evalue": "('42S01', \"[42S01] [Microsoft][ODBC SQL Server Driver][SQL Server]Já existe um objeto com nome 'Consolidado' no banco de dados. (2714) (SQLExecDirectW)\")",
     "output_type": "error",
     "traceback": [
      "\u001b[1;31m---------------------------------------------------------------------------\u001b[0m",
      "\u001b[1;31mProgrammingError\u001b[0m                          Traceback (most recent call last)",
      "\u001b[1;32m~\\AppData\\Local\\Temp/ipykernel_3080/1765518396.py\u001b[0m in \u001b[0;36m<module>\u001b[1;34m\u001b[0m\n\u001b[0;32m      6\u001b[0m \u001b[0mconn\u001b[0m \u001b[1;33m=\u001b[0m \u001b[0mpyodbc\u001b[0m\u001b[1;33m.\u001b[0m\u001b[0mconnect\u001b[0m\u001b[1;33m(\u001b[0m\u001b[1;34m'DRIVER={SQL Server};SERVER=1965DEP01993816\\SQLEXPRESS;DATABASE=H77;UID=123;PWD=123'\u001b[0m\u001b[1;33m)\u001b[0m\u001b[1;33m\u001b[0m\u001b[1;33m\u001b[0m\u001b[0m\n\u001b[0;32m      7\u001b[0m \u001b[0mcursor\u001b[0m \u001b[1;33m=\u001b[0m \u001b[0mconn\u001b[0m\u001b[1;33m.\u001b[0m\u001b[0mcursor\u001b[0m\u001b[1;33m(\u001b[0m\u001b[1;33m)\u001b[0m\u001b[1;33m\u001b[0m\u001b[1;33m\u001b[0m\u001b[0m\n\u001b[1;32m----> 8\u001b[1;33m \u001b[0mcursor\u001b[0m\u001b[1;33m.\u001b[0m\u001b[0mexecute\u001b[0m\u001b[1;33m(\u001b[0m\u001b[1;34m\"\"\"CREATE TABLE Consolidado (DEP int,LOJA int,BA varchar(3),FABR int,PROD int,COD_PLU int,NOME_PRODUTO varchar(255),QTDE_EMBAL int,EMBAL int,CUSTO float,DATA_FAT varchar(255),ROMAN int,ROTA int,DT_ORIGEM varchar(255));\"\"\"\u001b[0m\u001b[1;33m)\u001b[0m\u001b[1;33m\u001b[0m\u001b[1;33m\u001b[0m\u001b[0m\n\u001b[0m\u001b[0;32m      9\u001b[0m \u001b[0mconn\u001b[0m\u001b[1;33m.\u001b[0m\u001b[0mcommit\u001b[0m\u001b[1;33m(\u001b[0m\u001b[1;33m)\u001b[0m\u001b[1;33m\u001b[0m\u001b[1;33m\u001b[0m\u001b[0m\n\u001b[0;32m     10\u001b[0m \u001b[0mconn\u001b[0m\u001b[1;33m.\u001b[0m\u001b[0mclose\u001b[0m\u001b[1;33m(\u001b[0m\u001b[1;33m)\u001b[0m\u001b[1;33m\u001b[0m\u001b[1;33m\u001b[0m\u001b[0m\n",
      "\u001b[1;31mProgrammingError\u001b[0m: ('42S01', \"[42S01] [Microsoft][ODBC SQL Server Driver][SQL Server]Já existe um objeto com nome 'Consolidado' no banco de dados. (2714) (SQLExecDirectW)\")"
     ]
    }
   ],
   "source": [
    "#Library\n",
    "import pyodbc\n",
    "import pandas as pd\n",
    "import numpy as np\n",
    "#MyConnection\n",
    "conn = pyodbc.connect('DRIVER={SQL Server};SERVER=***;DATABASE=***;UID=***;PWD=***')\n",
    "cursor = conn.cursor()\n",
    "cursor.execute(\"\"\"CREATE TABLE Consolidado (DEP int,LOJA int,BA varchar(3),FABR int,PROD int,COD_PLU int,NOME_PRODUTO varchar(255),QTDE_EMBAL int,EMBAL int,CUSTO float,DATA_FAT varchar(255),ROMAN int,ROTA int,DT_ORIGEM varchar(255));\"\"\")\n",
    "conn.commit()\n",
    "conn.close()\n",
    "print(\"Feito\")"
   ]
  },
 
