{
 "cells": [
  {
   "cell_type": "code",
   "execution_count": 2,
   "id": "9872b05f-c3c7-4b51-9a6c-c02ac8b51605",
   "metadata": {},
   "outputs": [],
   "source": [
    "#Library\n",
    "import pyodbc\n",
    "import pandas as pd\n",
    "import numpy as np\n",
    "#MyConnection\n",
    "conn = pyodbc.connect('DRIVER={SQL Server};SERVER=***;DATABASE=***;UID=***;PWD=***')\n",
    "cursor = conn.cursor()\n",
    "cursor.execute(\"\"\"CREATE TABLE Consolidado (DEP int,LOJA int,BA varchar(3),FABR int,PROD int,COD_PLU int,NOME_PRODUTO varchar(255),QTDE_EMBAL int,EMBAL int,CUSTO float,DATA_FAT varchar(255),ROMAN int,ROTA int,DT_ORIGEM varchar(255));\"\"\")\n",
    "conn.commit()\n",
    "conn.close()\n",
    "print(\"Feito\")"
   ]
  },
  {
   "cell_type": "code",
   "execution_count": null,
   "id": "3b4b813f-f900-429d-b4f8-c625d6122545",
   "metadata": {},
   "outputs": [],
   "source": []
  }
 ],
 "metadata": {
  "kernelspec": {
   "display_name": "Python 3 (ipykernel)",
   "language": "python",
   "name": "python3"
  },
  "language_info": {
   "codemirror_mode": {
    "name": "ipython",
    "version": 3
   },
   "file_extension": ".py",
   "mimetype": "text/x-python",
   "name": "python",
   "nbconvert_exporter": "python",
   "pygments_lexer": "ipython3",
   "version": "3.8.9"
  }
 },
 "nbformat": 4,
 "nbformat_minor": 5
}
