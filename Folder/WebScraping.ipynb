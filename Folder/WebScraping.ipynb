{
 "cells": [
  {
   "cell_type": "code",
   "execution_count": 1,
   "id": "ea685dc5-702f-4222-af40-269ae1eb6301",
   "metadata": {},
   "outputs": [],
   "source": [
    "from selenium import webdriver"
   ]
  },
  {
   "cell_type": "code",
   "execution_count": 2,
   "id": "47b8efee-9a58-4538-b8e2-1ffea5fd282d",
   "metadata": {},
   "outputs": [],
   "source": [
    "driver = webdriver.Chrome()\n",
    "driver.get(\"https://www.google.com\")"
   ]
  },
  {
   "cell_type": "code",
   "execution_count": null,
   "id": "11afd72b-a472-40c9-b004-e41445557e9e",
   "metadata": {},
   "outputs": [],
   "source": [
    "print driver.title\n",
    "print driver.current_url"
   ]
  },
  {
   "cell_type": "code",
   "execution_count": null,
   "id": "4593d5dc-c7d5-4c63-ae14-5d21234c70f0",
   "metadata": {},
   "outputs": [],
   "source": [
    "driver.quit"
   ]
  }
 ],
 "metadata": {
  "kernelspec": {
   "display_name": "Python 3 (ipykernel)",
   "language": "python",
   "name": "python3"
  },
  "language_info": {
   "codemirror_mode": {
    "name": "ipython",
    "version": 3
   },
   "file_extension": ".py",
   "mimetype": "text/x-python",
   "name": "python",
   "nbconvert_exporter": "python",
   "pygments_lexer": "ipython3",
   "version": "3.8.9"
  }
 },
 "nbformat": 4,
 "nbformat_minor": 5
}
