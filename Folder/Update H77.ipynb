{
 "cells": [
  {
   "cell_type": "code",
   "execution_count": 434,
   "id": "9ea86884-28e8-4bc0-a37f-7624c4060c7e",
   "metadata": {},
      "outputs": [
    {
     "ename": "ValueError",
     "evalue": "invalid literal for int() with base 10: '0000000,80'",
     "output_type": "error",
     "traceback": []
    }
   ],
   "source": [
    "#Library\n",
    "import pyodbc\n",
    "import pandas as pd\n",
    "import numpy as np\n",
    "\n",
    "#Import Archive\n",
    "df = pd.read_csv(r\"C:\\Users\\2796384\\Desktop\\Python\\Automação\\01 - JANEIRO\\30-01-2021.1965.H77.csv\",delimiter = \";\",skipinitialspace=True, skiprows=1,low_memory=False)\n",
    "\n",
    "#Choose the columns with Index\n",
    "df = df.iloc[:, [1,2,3,6,7,8,10,11,12,13,14,23,24,27]]\n",
    "df[['LOJA','DEP ','FABR ','PROD ','COD PLU','EMBAL ','DATA FAT','ROMAN.','DT ORIGEM','ROTA   ']] = df[['LOJA','DEP ','FABR ','PROD ','COD PLU','EMBAL ','DATA FAT','ROMAN.','DT ORIGEM','ROTA   ']].fillna(0).astype(np.int64)\n",
    "df['VAL CUSTO SICM'] = df['VAL CUSTO SICM'].str.replace(\",\", \".\")\n",
    "df['VAL CUSTO SICM'] = df['VAL CUSTO SICM'].fillna(0).astype(np.float64)\n",
    "df['QTDE EMBAL'] = df['QTDE EMBAL'].str.replace(\",00\", \"\")\n",
    "df['QTDE EMBAL'] = df['QTDE EMBAL'].fillna(0).astype(np.int64)\n",
    "df = df.rename(columns={'DEP ': 'DEP', 'PROD ':'PROD','NOME PRODUTO                       ':'NOME_PRODUTO','ROTA   ':'ROTA','ROMAN.':'ROMAN','FABR ':'FABR','VAL CUSTO SICM':'CUSTO','EMBAL ':'EMBAL'})\n",
    "df = df.loc[df['DEP'] == 1965]\n",
    "df['DATA FAT'] = df['DATA FAT'].astype(str)\n",
    "df['DATA FAT'] = df['DATA FAT'].str[6:8] + \"/\" + df['DATA FAT'].str[4:6]  + \"/\" + df['DATA FAT'].str[0:4] \n",
    "df['DATA FAT'] = df['DATA FAT'].str.replace(\"//0\", \"0\")\n",
    "df['DT ORIGEM'] = df['DT ORIGEM'].astype(str)\n",
    "df['DT ORIGEM'] = df['DT ORIGEM'].str[6:8] + \"/\" + df['DT ORIGEM'].str[4:6]  + \"/\" + df['DT ORIGEM'].str[0:4] \n",
    "df['DT ORIGEM'] = df['DT ORIGEM'].str.replace(\"//0\", \"0\")\n",
    "df = df.rename(columns={'COD PLU': 'COD_PLU','DATA FAT':'DATA_FAT','DT ORIGEM':'DT_ORIGEM','QTDE EMBAL':'QTDE_EMBAL'})\n",
    "conn = pyodbc.connect('DRIVER={SQL Server};SERVER=1965DEP01993816\\SQLEXPRESS;DATABASE=H77;UID=123;PWD=123')\n",
    "cursor = conn.cursor()\n",
    "\n",
    "#Insert into sql\n",
    "for row in df.itertuples():\n",
    "    cursor.execute(\"\"\"INSERT INTO Janeiro21(DEP,LOJA,BA,FABR,PROD,COD_PLU,NOME_PRODUTO,QTDE_EMBAL,EMBAL,CUSTO,DATA_FAT,ROMAN,ROTA,DT_ORIGEM) VALUES (?,?,?,?,?,?,?,?,?,?,?,?,?,?)\"\"\",row.DEP,row.LOJA,row.BA,row.FABR,row.PROD,row.COD_PLU,row.NOME_PRODUTO,row.QTDE_EMBAL,row.EMBAL,row.CUSTO,row.DATA_FAT,row.ROMAN,row.ROTA,row.DT_ORIGEM)\n",
    "    conn.commit()\n",
    "conn.close()\n",
    "print(\"Acabou\")"
   ]
  },
  {
   "cell_type": "code",
   "execution_count": null,
   "id": "36c57fa6-99cf-423a-b08f-18c3191948fb",
   "metadata": {},
   "outputs": [],
   "source": []
  }
 ],
 "metadata": {
  "kernelspec": {
   "display_name": "Python 3 (ipykernel)",
   "language": "python",
   "name": "python3"
  },
  "language_info": {
   "codemirror_mode": {
    "name": "ipython",
    "version": 3
   },
   "file_extension": ".py",
   "mimetype": "text/x-python",
   "name": "python",
   "nbconvert_exporter": "python",
   "pygments_lexer": "ipython3",
   "version": "3.8.9"
  }
 },
 "nbformat": 4,
 "nbformat_minor": 5
}
