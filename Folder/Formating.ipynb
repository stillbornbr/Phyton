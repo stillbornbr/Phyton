{
 "cells": [
  {
   "cell_type": "code",
   "execution_count": 24,
   "id": "c08f22d2-1183-4ada-ac3a-cf8f2247bb0c",
   "metadata": {},
   "outputs": [],
   "source": [
    "#1.Library\n",
    "import pandas as pd\n",
    "from openpyxl import load_workbook\n",
    "import time\n",
    "import numpy as np\n",
    "#1.1.Record the timer\n",
    "start_time = time.time()\n",
    "df_HA8 = pd.read_csv('HA8.txt', delimiter = \";\",skipinitialspace=True, skiprows=1,low_memory=False)"
   ]
  },
  {
   "cell_type": "code",
   "execution_count": 25,
   "id": "f0b9376b-a2c3-4f76-af69-ecdc33084b94",
   "metadata": {},
   "outputs": [
    {
     "data": {
      "text/plain": [
       "Index(['PLU    ', 'ESTOQUE   ', 'TRANSF        ', 'EMB TR', 'BLOQ.ARMAZ.EXT',\n",
       "       'QTD.ARMAZ.EXT', 'QTD.BLOQ.GQ', 'QTD.BLOQ.ADM'],\n",
       "      dtype='object')"
      ]
     },
     "execution_count": 25,
     "metadata": {},
     "output_type": "execute_result"
    }
   ],
   "source": [
    "df_HA8 = df_HA8.iloc[:, [19,20,23,45,62,63,64,65]]\n",
    "df_HA8.columns"
   ]
  },
  {
   "cell_type": "code",
   "execution_count": 26,
   "id": "6b114167-32d4-4e29-a39a-2b3e8cf31b4e",
   "metadata": {},
   "outputs": [
    {
     "data": {
      "text/plain": [
       "0         87.0\n",
       "1          6.0\n",
       "2          3.0\n",
       "3         24.0\n",
       "4         20.0\n",
       "         ...  \n",
       "18311      0.0\n",
       "18312      5.0\n",
       "18313      0.0\n",
       "18314    414.0\n",
       "18315      0.0\n",
       "Name: ESTOQUE, Length: 18316, dtype: float64"
      ]
     },
     "execution_count": 26,
     "metadata": {},
     "output_type": "execute_result"
    }
   ],
   "source": [
    "df_HA8 = df_HA8.rename(columns={'PLU    ': 'PLU', 'ESTOQUE   ': 'ESTOQUE','TRANSF        ':'TRANSF'})\n",
    "df_HA8['ESTOQUE'] = df_HA8['ESTOQUE'].str.replace(\",\", \".\")\n",
    "df_HA8['ESTOQUE'].fillna(0).astype(np.float64)"
   ]
  },
  {
   "cell_type": "code",
   "execution_count": null,
   "id": "641c8c9b-0af3-4c4f-a3e2-a9e7f475664f",
   "metadata": {},
   "outputs": [],
   "source": []
  }
 ],
 "metadata": {
  "kernelspec": {
   "display_name": "Python 3 (ipykernel)",
   "language": "python",
   "name": "python3"
  },
  "language_info": {
   "codemirror_mode": {
    "name": "ipython",
    "version": 3
   },
   "file_extension": ".py",
   "mimetype": "text/x-python",
   "name": "python",
   "nbconvert_exporter": "python",
   "pygments_lexer": "ipython3",
   "version": "3.8.9"
  }
 },
 "nbformat": 4,
 "nbformat_minor": 5
}
