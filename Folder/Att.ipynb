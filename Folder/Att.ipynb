{
 "cells": [
  {
   "cell_type": "code",
   "execution_count": 1,
   "id": "6abded36-811b-4646-9f76-da425bb3caa6",
   "metadata": {},
   "outputs": [],
   "source": [
    "#1.Library\n",
    "import pandas as pd\n",
    "from openpyxl import load_workbook\n",
    "import time\n",
    "import numpy as np\n",
    "#1.1.Record the timer\n",
    "start_time = time.time()\n"
   ]
  },
  {
   "cell_type": "code",
   "execution_count": 2,
   "id": "230b2583-7f4e-4233-b597-e95d8f9cd0f2",
   "metadata": {},
   "outputs": [],
   "source": [
    "#2.Creating a DataFrame from archive Itens_Sem_Pertence\n",
    "\n",
    "#2.1 Read Itens_Sem_Pertence File\n",
    "df = pd.read_excel('Itens_Sem_Pertence .xlsx', sheet_name='base', engine = 'openpyxl')\n",
    "\n",
    "#2.2 Defining parameters from df\n",
    "df = df.loc[(df['DAT_DIA_CALEND'] == '2021-11-02') & (df['COD_LOCAL'] == 1965)]\n",
    "#2.2.1 Formating Date\n",
    "formated_df = df['DAT_DIA_CALEND'].dt.strftime(\"%d/%m/%Y\")\n",
    "\n",
    "#2.3 Formating new column\n",
    "df.drop('DAT_DIA_CALEND',axis='columns', inplace=True)\n",
    "#2.3.1 Insert new column with date formating\n",
    "df.insert(0,\"DAT_DIA_CALEND\",formated_df)\n",
    "\n",
    "\n",
    "\n",
    "#2.4 Read HA8 File\n",
    "df_HA8 = pd.read_csv('HA8.txt', delimiter = \";\",skipinitialspace=True, skiprows=1,low_memory=False)\n",
    "#2.4.1 Select with columns with index\n",
    "df_HA8 = df_HA8.iloc[:, [19,20,23,45,62,63,64,65]]\n",
    "#2.4.2 Fixed columns name\n",
    "df_HA8 = df_HA8.rename(columns={'PLU    ': 'PLU', 'ESTOQUE   ': 'ESTOQUE','TRANSF        ':'TRANSF'})\n",
    "#2.4.3 Formating DF\n",
    "df_HA8['ESTOQUE'] = df_HA8['ESTOQUE'].str.replace(\",0\", \"\")\n",
    "df_HA8['TRANSF'] = df_HA8['TRANSF'].str.replace(\",\", \".\")\n",
    "df_HA8['BLOQ.ARMAZ.EXT'] = df_HA8['BLOQ.ARMAZ.EXT'].str.replace(\",0\", \"\")\n",
    "df_HA8['QTD.ARMAZ.EXT'] = df_HA8['QTD.ARMAZ.EXT'].str.replace(\",0\", \"\")\n",
    "df_HA8['QTD.BLOQ.GQ'] = df_HA8['QTD.BLOQ.GQ'].str.replace(\",0\", \"\")\n",
    "df_HA8['QTD.BLOQ.ADM'] = df_HA8['QTD.BLOQ.ADM'].str.replace(\",0\", \"\")\n",
    "df_HA8[['PLU','ESTOQUE','EMB TR','BLOQ.ARMAZ.EXT','QTD.ARMAZ.EXT','QTD.BLOQ.GQ','QTD.BLOQ.ADM']] = df_HA8[['PLU','ESTOQUE','EMB TR','BLOQ.ARMAZ.EXT','QTD.ARMAZ.EXT','QTD.BLOQ.GQ','QTD.BLOQ.ADM']].fillna(0).astype(np.int64)\n",
    "df_HA8['TRANSF'] = df_HA8['TRANSF'].fillna(0).astype(np.float64)\n",
    "df_HA8.insert(0,\"BLOQ\",None)\n",
    "df_HA8.insert(1,\"TESTOQUE\",None)\n",
    "df_HA8.insert(1,\"CUST\",None)\n",
    "\n",
    "#2.5 Read H1J File\n",
    "df_H1J = pd.read_csv('H1J.txt', delimiter = \";\", skiprows=1,low_memory=False,thousands=',')\n",
    "df_H1J = df_H1J[['P L U  ']]\n",
    "df_H1J.insert(1,\"POSIÇÕES\",df_H1J)\n",
    "df_H1J = df_H1J.groupby('P L U  ')['POSIÇÕES'].count().reset_index()"
   ]
  },
  {
   "cell_type": "code",
   "execution_count": 3,
   "id": "f0eb4fef-012c-4aed-b2b4-2747349e5298",
   "metadata": {},
   "outputs": [],
   "source": [
    "#3 Union tables\n",
    "df = pd.merge(df,df_H1J,left_on=['COD_PLU'], right_on=['P L U  '], how='left')\n",
    "df.drop('P L U  ',axis='columns', inplace=True)\n",
    "df_HA8['BLOQ'] = df_HA8['BLOQ.ARMAZ.EXT'] + df_HA8['QTD.ARMAZ.EXT'] + df_HA8['QTD.BLOQ.GQ'] + df_HA8['QTD.BLOQ.ADM']\n",
    "df_HA8['TESTOQUE'] = df_HA8['ESTOQUE'] * df_HA8['EMB TR']\n",
    "df_HA8['CUST'] = df_HA8['TESTOQUE'] * df_HA8['TRANSF']\n",
    "df = pd.merge(df,df_HA8[['BLOQ','TESTOQUE','CUST','PLU','ESTOQUE','EMB TR']],left_on=['COD_PLU'], right_on=['PLU'], how='left')\n",
    "df.drop('PLU',axis='columns', inplace=True)"
   ]
  },
  {
   "cell_type": "code",
   "execution_count": 4,
   "id": "93eb8d53-1ec9-46ed-966c-355e05c96c22",
   "metadata": {},
   "outputs": [],
   "source": [
    "#4 Formation DF\n",
    "df = df.iloc[:, [0,1,2,3,4,5,6,7,8,9,10,11,12,13,14,15,28,29,26,27,18,19,20,21,22,23,24,25]]\n",
    "df = df.rename(columns={'ESTOQUE': 'Estoque Caixas', 'EMB TR':'Embalagem','TESTOQUE':'CD_ESTOQUE_UND','CUST':'CD_ESTOQUE_R$'})\n",
    "df = df.loc[df['BLOQ'] == 0]\n",
    "df.drop('BLOQ',axis='columns', inplace=True)"
   ]
  },
  {
   "cell_type": "code",
   "execution_count": 5,
   "id": "349b11ca-1875-4c7e-896a-ef07fb19feb9",
   "metadata": {},
   "outputs": [],
   "source": [
    "#5 Download to excel\n",
    "df.to_excel(\"Itens_1965.xlsx\", sheet_name='base',index=False)"
   ]
  },
  {
   "cell_type": "code",
   "execution_count": 6,
   "id": "9e584119-c7ba-4c69-a935-b078ecfc9466",
   "metadata": {},
   "outputs": [
    {
     "name": "stdout",
     "output_type": "stream",
     "text": [
      "This script executed in 34.76969575881958 seconds \n"
     ]
    }
   ],
   "source": [
    "#6 Finish\n",
    "print(\"This script executed in %s seconds \" % (time.time() - start_time))"
   ]
  },
  {
   "cell_type": "code",
   "execution_count": null,
   "id": "8a547bea-237c-4d6f-a565-be8746c1cea4",
   "metadata": {},
   "outputs": [],
   "source": []
  }
 ],
 "metadata": {
  "kernelspec": {
   "display_name": "Python 3 (ipykernel)",
   "language": "python",
   "name": "python3"
  },
  "language_info": {
   "codemirror_mode": {
    "name": "ipython",
    "version": 3
   },
   "file_extension": ".py",
   "mimetype": "text/x-python",
   "name": "python",
   "nbconvert_exporter": "python",
   "pygments_lexer": "ipython3",
   "version": "3.8.9"
  }
 },
 "nbformat": 4,
 "nbformat_minor": 5
}
